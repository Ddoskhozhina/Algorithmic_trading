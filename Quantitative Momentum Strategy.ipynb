{
 "cells": [
  {
   "cell_type": "code",
   "execution_count": 2,
   "id": "77395a3b-9572-4336-a003-3c46c5332195",
   "metadata": {},
   "outputs": [],
   "source": [
    "import numpy as np\n",
    "import pandas as pd\n",
    "import requests\n",
    "import xlsxwriter\n",
    "import math\n",
    "from scipy import stats"
   ]
  },
  {
   "cell_type": "code",
   "execution_count": null,
   "id": "185fbff9-9c6d-4147-899c-3420f01b681d",
   "metadata": {},
   "outputs": [],
   "source": [
    "\"\"\"\n",
    "Importing List of Stocks\n",
    "\"\"\"\n",
    "stocks = pd.read_csv('sp_500_stocks.csv')\n",
    "TOKEN = {YOUR_TOKEN}"
   ]
  },
  {
   "cell_type": "code",
   "execution_count": null,
   "id": "8a57576a-5e26-4fb4-bf01-91222143ab50",
   "metadata": {},
   "outputs": [],
   "source": [
    "\"\"\"\n",
    "API Call\n",
    "\"\"\"\n",
    "symbol = 'AAPL'\n",
    "api_url = f'https://sandbox.iexapis.com/stable/stock/{symbol}/stats?token={IEX_CLOUD_API_TOKEN}'\n",
    "data = requests.get(api_url).json()"
   ]
  },
  {
   "cell_type": "code",
   "execution_count": null,
   "id": "803bfb48-25d7-4b12-b95b-735d4bd8e0e0",
   "metadata": {},
   "outputs": [],
   "source": [
    "\"\"\"\n",
    "Parsing API Call\n",
    "\"\"\"\n",
    "data['year1ChangePercent']"
   ]
  },
  {
   "cell_type": "code",
   "execution_count": null,
   "id": "a4b8611c-2977-4341-a337-5e4b2f0af267",
   "metadata": {},
   "outputs": [],
   "source": [
    "\"\"\"\n",
    "Batch API Call & Building DataFrame\n",
    "\"\"\"\n",
    "def chunks(lst, n):\n",
    "    \"\"\"Yield successive n-sized chunks from lst.\"\"\"\n",
    "    for i in range(0, len(lst), n):\n",
    "        yield lst[i:i + n]   \n",
    "        \n",
    "symbol_groups = list(chunks(stocks['Ticker'], 100))\n",
    "symbol_strings = []\n",
    "for i in range(0, len(symbol_groups)):\n",
    "    symbol_strings.append(','.join(symbol_groups[i]))\n",
    "my_columns = ['Ticker', 'Price', 'One-Year Price Return', 'Number of Shares to Buy']"
   ]
  },
  {
   "cell_type": "code",
   "execution_count": null,
   "id": "30047db7-e685-4c7e-b06e-c5f8e49d5b57",
   "metadata": {},
   "outputs": [],
   "source": [
    "final_dataframe = pd.DataFrame(columns = my_columns)\n",
    "\n",
    "for symbol_string in symbol_strings:\n",
    "#     print(symbol_strings)\n",
    "    batch_api_call_url = f'https://sandbox.iexapis.com/stable/stock/market/batch/?types=stats,quote&symbols={symbol_string}&token={IEX_CLOUD_API_TOKEN}'\n",
    "    data = requests.get(batch_api_call_url).json()\n",
    "    for symbol in symbol_string.split(','):\n",
    "        final_dataframe = final_dataframe.append(\n",
    "                                        pd.Series([symbol, \n",
    "                                                   data[symbol]['quote']['latestPrice'],\n",
    "                                                   data[symbol]['stats']['year1ChangePercent'],\n",
    "                                                   'N/A'\n",
    "                                                   ], \n",
    "                                                  index = my_columns), \n",
    "                                        ignore_index = True)\n",
    "        \n",
    "    \n",
    "final_dataframe"
   ]
  },
  {
   "cell_type": "code",
   "execution_count": null,
   "id": "34a3d5c1-6ae4-412d-a5c4-573b4d470b2e",
   "metadata": {},
   "outputs": [],
   "source": [
    "\"\"\"\n",
    "Removing Low-Momentum Stocks\n",
    "\"\"\"\n",
    "final_dataframe.sort_values('One-Year Price Return', ascending = False, inplace = True)\n",
    "final_dataframe = final_dataframe[:51]\n",
    "final_dataframe.reset_index(drop = True, inplace = True)\n",
    "final_dataframe"
   ]
  },
  {
   "cell_type": "code",
   "execution_count": null,
   "id": "dc6867b4-18bc-4f8f-87bb-c9c1a5ecdcdc",
   "metadata": {},
   "outputs": [],
   "source": [
    "\"\"\"\n",
    "Calculating the Number of Shares to Buy\n",
    "\"\"\"\n",
    "def portfolio_input():\n",
    "    global portfolio_size\n",
    "    portfolio_size = input(\"Enter the value of your portfolio:\")\n",
    "\n",
    "    try:\n",
    "        val = float(portfolio_size)\n",
    "    except ValueError:\n",
    "        print(\"That's not a number! \\n Try again:\")\n",
    "        portfolio_size = input(\"Enter the value of your portfolio:\")\n",
    "\n",
    "portfolio_input()\n",
    "print(portfolio_size)"
   ]
  },
  {
   "cell_type": "code",
   "execution_count": null,
   "id": "2a15d1b5-9036-442e-8329-a98c725f6d82",
   "metadata": {},
   "outputs": [],
   "source": [
    "position_size = float(portfolio_size) / len(final_dataframe.index)\n",
    "for i in range(0, len(final_dataframe['Ticker'])):\n",
    "    final_dataframe.loc[i, 'Number of Shares to Buy'] = math.floor(position_size / final_dataframe['Price'][i])\n",
    "final_dataframe"
   ]
  },
  {
   "cell_type": "code",
   "execution_count": null,
   "id": "4051a631-a8e8-45fd-ba25-d1574790d404",
   "metadata": {},
   "outputs": [],
   "source": [
    "\"\"\"\n",
    "More Realistic Momentum Strategy\n",
    "\"\"\"\n",
    "hqm_columns = [\n",
    "                'Ticker', \n",
    "                'Price', \n",
    "                'Number of Shares to Buy', \n",
    "                'One-Year Price Return', \n",
    "                'One-Year Return Percentile',\n",
    "                'Six-Month Price Return',\n",
    "                'Six-Month Return Percentile',\n",
    "                'Three-Month Price Return',\n",
    "                'Three-Month Return Percentile',\n",
    "                'One-Month Price Return',\n",
    "                'One-Month Return Percentile',\n",
    "                'HQM Score'\n",
    "                ]\n",
    "\n",
    "hqm_dataframe = pd.DataFrame(columns = hqm_columns)\n",
    "\n",
    "for symbol_string in symbol_strings:\n",
    "#     print(symbol_strings)\n",
    "    batch_api_call_url = f'https://sandbox.iexapis.com/stable/stock/market/batch/?types=stats,quote&symbols={symbol_string}&token={IEX_CLOUD_API_TOKEN}'\n",
    "    data = requests.get(batch_api_call_url).json()\n",
    "    for symbol in symbol_string.split(','):\n",
    "        hqm_dataframe = hqm_dataframe.append(\n",
    "                                        pd.Series([symbol, \n",
    "                                                   data[symbol]['quote']['latestPrice'],\n",
    "                                                   'N/A',\n",
    "                                                   data[symbol]['stats']['year1ChangePercent'],\n",
    "                                                   'N/A',\n",
    "                                                   data[symbol]['stats']['month6ChangePercent'],\n",
    "                                                   'N/A',\n",
    "                                                   data[symbol]['stats']['month3ChangePercent'],\n",
    "                                                   'N/A',\n",
    "                                                   data[symbol]['stats']['month1ChangePercent'],\n",
    "                                                   'N/A',\n",
    "                                                   'N/A'\n",
    "                                                   ], \n",
    "                                                  index = hqm_columns), \n",
    "                                        ignore_index = True)\n",
    "        \n",
    "hqm_dataframe.columns"
   ]
  },
  {
   "cell_type": "code",
   "execution_count": null,
   "id": "402f306d-3273-4bb7-b499-876047b10d75",
   "metadata": {},
   "outputs": [],
   "source": [
    "\"\"\"\n",
    "Calculating Momentum Percentiles\n",
    "\"\"\"\n",
    "time_periods = [\n",
    "                'One-Year',\n",
    "                'Six-Month',\n",
    "                'Three-Month',\n",
    "                'One-Month'\n",
    "                ]\n",
    "\n",
    "for row in hqm_dataframe.index:\n",
    "    for time_period in time_periods:\n",
    "        hqm_dataframe.loc[row, f'{time_period} Return Percentile'] = stats.percentileofscore(hqm_dataframe[f'{time_period} Price Return'], hqm_dataframe.loc[row, f'{time_period} Price Return'])/100\n",
    "\n",
    "# Print each percentile score to make sure it was calculated properly\n",
    "for time_period in time_periods:\n",
    "    print(hqm_dataframe[f'{time_period} Return Percentile'])\n",
    "\n",
    "#Print the entire DataFrame    \n",
    "hqm_dataframe"
   ]
  },
  {
   "cell_type": "code",
   "execution_count": null,
   "id": "48b9ca4c-8a66-4480-b0b0-7fd1a84caddf",
   "metadata": {},
   "outputs": [],
   "source": [
    "\"\"\"\n",
    "Calculating the HQM Score\n",
    "\"\"\"\n",
    "from statistics import mean\n",
    "\n",
    "for row in hqm_dataframe.index:\n",
    "    momentum_percentiles = []\n",
    "    for time_period in time_periods:\n",
    "        momentum_percentiles.append(hqm_dataframe.loc[row, f'{time_period} Return Percentile'])\n",
    "    hqm_dataframe.loc[row, 'HQM Score'] = mean(momentum_percentiles)"
   ]
  },
  {
   "cell_type": "code",
   "execution_count": null,
   "id": "3df72a78-96f9-4646-90e0-a2fa9ebe2709",
   "metadata": {},
   "outputs": [],
   "source": [
    "\"\"\"\n",
    "50 Best Momentum Stocks\n",
    "\"\"\"\n",
    "hqm_dataframe.sort_values(by = 'HQM Score', ascending = False)\n",
    "hqm_dataframe = hqm_dataframe[:51]"
   ]
  },
  {
   "cell_type": "code",
   "execution_count": null,
   "id": "bef482cd-404b-46c5-a181-4352fb958cde",
   "metadata": {},
   "outputs": [],
   "source": [
    "\"\"\"\n",
    "Calculating the Number of Shares to Buy\n",
    "\"\"\"\n",
    "portfolio_input()"
   ]
  },
  {
   "cell_type": "code",
   "execution_count": null,
   "id": "7aae8c8e-0b03-4c6a-ac34-9d9474ecd651",
   "metadata": {},
   "outputs": [],
   "source": [
    "position_size = float(portfolio_size) / len(hqm_dataframe.index)\n",
    "for i in range(0, len(hqm_dataframe['Ticker'])-1):\n",
    "    hqm_dataframe.loc[i, 'Number of Shares to Buy'] = math.floor(position_size / hqm_dataframe['Price'][i])\n",
    "hqm_dataframe"
   ]
  },
  {
   "cell_type": "code",
   "execution_count": null,
   "id": "76301026-3827-4d42-ad7b-c291af7156e4",
   "metadata": {},
   "outputs": [],
   "source": [
    "\"\"\"\n",
    "Excel Output\n",
    "\"\"\"\n",
    "writer = pd.ExcelWriter('momentum_strategy.xlsx', engine='xlsxwriter')\n",
    "hqm_dataframe.to_excel(writer, sheet_name='Momentum Strategy', index = False)"
   ]
  },
  {
   "cell_type": "code",
   "execution_count": null,
   "id": "07c0d4bc-d509-4265-aed1-c667fb94a611",
   "metadata": {},
   "outputs": [],
   "source": [
    "\"\"\"\n",
    "Creating the Formats We'll Need For .xlsx File\n",
    "\"\"\"\n",
    "background_color = '#0a0a23'\n",
    "font_color = '#ffffff'\n",
    "\n",
    "string_template = writer.book.add_format(\n",
    "        {\n",
    "            'font_color': font_color,\n",
    "            'bg_color': background_color,\n",
    "            'border': 1\n",
    "        }\n",
    "    )\n",
    "\n",
    "dollar_template = writer.book.add_format(\n",
    "        {\n",
    "            'num_format':'$0.00',\n",
    "            'font_color': font_color,\n",
    "            'bg_color': background_color,\n",
    "            'border': 1\n",
    "        }\n",
    "    )\n",
    "\n",
    "integer_template = writer.book.add_format(\n",
    "        {\n",
    "            'num_format':'0',\n",
    "            'font_color': font_color,\n",
    "            'bg_color': background_color,\n",
    "            'border': 1\n",
    "        }\n",
    "    )\n",
    "percent_template = writer.book.add_format(\n",
    "        {\n",
    "            'num_format':'0.0%',\n",
    "            'font_color': font_color,\n",
    "            'bg_color': background_color,\n",
    "            'border': 1\n",
    "        }\n",
    "    )"
   ]
  },
  {
   "cell_type": "code",
   "execution_count": null,
   "id": "c1f0d245-efc0-42c3-9cc4-84060d09b955",
   "metadata": {},
   "outputs": [],
   "source": [
    "column_formats = { \n",
    "                    'A': ['Ticker', string_template],\n",
    "                    'B': ['Price', dollar_template],\n",
    "                    'C': ['Number of Shares to Buy', integer_template],\n",
    "                    'D': ['One-Year Price Return', percent_template],\n",
    "                    'E': ['One-Year Return Percentile', percent_template],\n",
    "                    'F': ['Six-Month Price Return', percent_template],\n",
    "                    'G': ['Six-Month Return Percentile', percent_template],\n",
    "                    'H': ['Three-Month Price Return', percent_template],\n",
    "                    'I': ['Three-Month Return Percentile', percent_template],\n",
    "                    'J': ['One-Month Price Return', percent_template],\n",
    "                    'K': ['One-Month Return Percentile', percent_template],\n",
    "                    'L': ['HQM Score', integer_template]\n",
    "                    }\n",
    "\n",
    "for column in column_formats.keys():\n",
    "    writer.sheets['Momentum Strategy'].set_column(f'{column}:{column}', 20, column_formats[column][1])\n",
    "    writer.sheets['Momentum Strategy'].write(f'{column}1', column_formats[column][0], string_template)"
   ]
  },
  {
   "cell_type": "code",
   "execution_count": null,
   "id": "dd042c63-337d-4a39-b4b4-cffdff5153f9",
   "metadata": {},
   "outputs": [],
   "source": [
    "\"\"\"\n",
    "Saving\n",
    "\"\"\"\n",
    "writer.save()"
   ]
  }
 ],
 "metadata": {
  "kernelspec": {
   "display_name": "Python 3 (ipykernel)",
   "language": "python",
   "name": "python3"
  },
  "language_info": {
   "codemirror_mode": {
    "name": "ipython",
    "version": 3
   },
   "file_extension": ".py",
   "mimetype": "text/x-python",
   "name": "python",
   "nbconvert_exporter": "python",
   "pygments_lexer": "ipython3",
   "version": "3.9.6"
  }
 },
 "nbformat": 4,
 "nbformat_minor": 5
}
